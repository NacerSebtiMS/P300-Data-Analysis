{
  "nbformat": 4,
  "nbformat_minor": 0,
  "metadata": {
    "colab": {
      "name": "P300_Data_Analysis.ipynb",
      "provenance": [],
      "toc_visible": true,
      "authorship_tag": "ABX9TyMm04w9HeS1vK6vQyuCH9/Z",
      "include_colab_link": true
    },
    "kernelspec": {
      "name": "python3",
      "display_name": "Python 3"
    }
  },
  "cells": [
    {
      "cell_type": "markdown",
      "metadata": {
        "id": "view-in-github",
        "colab_type": "text"
      },
      "source": [
        "<a href=\"https://colab.research.google.com/github/NacerSebtiMS/P300-Data-Analysis/blob/main/P300_Data_Analysis.ipynb\" target=\"_parent\"><img src=\"https://colab.research.google.com/assets/colab-badge.svg\" alt=\"Open In Colab\"/></a>"
      ]
    },
    {
      "cell_type": "markdown",
      "metadata": {
        "id": "02_9rIPUlBYX"
      },
      "source": [
        "# Data-Analysis\r\n",
        "\r\n",
        "+ The analysis consists in identifying the signals measured the presence of a wave called P300\r\n",
        "+ Studying the automation of this classification and implementing several pattern recognition techniques to evaluate them.\r\n",
        "\r\n",
        "## The dataset\r\n",
        "\r\n",
        "+ The first category includes signals that are pre-labeled as P300 or P300-free, and should be used to design and validate the recognition system.\r\n",
        "+ The second category includes signals for which the category to which they belong is not known a priori (unknown). The recognition system will automatically classify them into the CP300 or CP300-free class.\r\n",
        "\r\n",
        "### Study and analysis of the distributions (probability distributions)\r\n",
        "+ Examine the shape of the probability laws (dispersion and distribution of points);\r\n",
        "+ Examine the eigenvalues of the covariance matrices;\r\n",
        "+ Study the relevance of decorrelation of coordinates;\r\n",
        "+ In order to reduce computations and the duration of treatments, study the relevance of a dimension reduction by decorrelation;\r\n",
        "+ Examine again the shape of the laws of probability after decorrelation.\r\n",
        "+ Study the visual form of the boundary equations between CP300 and Non CP300 classes;\r\n",
        "+ From previous work, deduce the advantages and disadvantages of direct estimation of probability densities by joint probabilities or by independent likelihood estimation for each of the dimensions.\r\n",
        "\r\n",
        "### Implementation of three Bayesian classification algorithms\r\n",
        "\r\n",
        "All three algorithms must take into account the cost associated with poor detection of the P300. The cost of not detecting the presence of a P300 (\"false negative\") is 3, while the cost of not detecting the absence of a P300 (\"false positive\") is 1.\r\n",
        "\r\n",
        "+ Implement a classification algorithm that uses the assumption that the laws are Gaussian;\r\n",
        "+ Implement another algorithm that allows a classification without using the mathematical expression of the boundaries and without assuming the Gaussian character but using the risk as defined by Bayes.\r\n",
        "+ Finally for the third algorithm use the mathematical expression of the boundaries assuming that the probability densities are Gaussian.\r\n",
        "\r\n",
        "### Evaluation\r\n",
        "\r\n",
        "+ Separate the data into two sets :\r\n",
        "    + learning set;\r\n",
        "    + Testing set.\r\n",
        "+ With these sets, evaluate the average classification rate of the 3 systems, compare the results and comment\r\n",
        "\r\n",
        "### K-NN & K-means\r\n",
        "\r\n",
        "Test now and experiment with non-parametric approaches. Document the classification of the same signals as before using two methods :\r\n",
        "+ Classification by the k-nearest neighbors (k-NN);\r\n",
        "+ Classification according to the k-NN algorithm but first using vector quantization (k-means) in order to reduce the size of the data used for the classification.\r\n",
        "\r\n",
        "Criticize and compare the two methods of using k-NN.\r\n",
        "\r\n",
        "### Comparison\r\n",
        "\r\n",
        "Based on the average misclassification rate of the different techniques you used, comment, document and discuss the results by comparing the techniques.\r\n",
        "\r\n",
        "### Image recognition\r\n",
        "\r\n",
        "Brain response is highly dependent on context and mood. It would therefore be important to match the EEG measurement with images from a camera to determine the person's mood (tense, angry, relaxed, etc.). We choose to classify the environments in which the subject finds himself or herself by assuming that the environment has an impact on mood. Evaluate the possibility of classifying the nature of images into three categories (beach, forest and town/road).\r\n",
        "\r\n",
        "For simplicity, only color information be used. You will design an image recognition system that will allow to classify the nature of images in the 3 categories (beach, forest and city) with only the color information. The system must be able to operate for different codings of the color characteristics of the images.\r\n"
      ]
    },
    {
      "cell_type": "markdown",
      "metadata": {
        "id": "c7SLHDkakwXN"
      },
      "source": [
        "## Loading data and library imports"
      ]
    },
    {
      "cell_type": "markdown",
      "metadata": {
        "id": "QmLw5RjZqcx0"
      },
      "source": [
        "Clonning the repository gives access to the data"
      ]
    },
    {
      "cell_type": "code",
      "metadata": {
        "id": "FxZr8QdTqR7g",
        "colab": {
          "base_uri": "https://localhost:8080/"
        },
        "outputId": "e5801d89-2b65-4600-852c-1304f21022a7"
      },
      "source": [
        "!git clone https://github.com/NacerSebtiMS/P300-Data-Analysis.git"
      ],
      "execution_count": 12,
      "outputs": [
        {
          "output_type": "stream",
          "text": [
            "fatal: destination path 'P300-Data-Analysis' already exists and is not an empty directory.\n"
          ],
          "name": "stdout"
        }
      ]
    },
    {
      "cell_type": "code",
      "metadata": {
        "id": "Po6aOZGiZ20L"
      },
      "source": [
        "import pandas as pd\r\n",
        "import matplotlib.pyplot as plt\r\n",
        "import numpy as np"
      ],
      "execution_count": 13,
      "outputs": []
    },
    {
      "cell_type": "markdown",
      "metadata": {
        "id": "fpqgsrRTqkrF"
      },
      "source": [
        "All datasets are loaded and the columns are labeled with X1, X2, X3 and X4."
      ]
    },
    {
      "cell_type": "code",
      "metadata": {
        "id": "s_w6hknJapnV"
      },
      "source": [
        "P300_PATH = \"/content/P300-Data-Analysis/data/P300/\"\r\n",
        "\r\n",
        "COLUMN_NAMES = ['X1','X2','X3','X4']\r\n",
        "\r\n",
        "# Ref P300 data\r\n",
        "path_ref_P300 = P300_PATH + \"ref_P300\"\r\n",
        "ref_P300 = pd.read_csv(path_ref_P300, delim_whitespace=True)\r\n",
        "ref_P300.columns = COLUMN_NAMES\r\n",
        "# Ref NP300 data\r\n",
        "path_ref_NP300 = P300_PATH + \"ref_NP300\"\r\n",
        "ref_NP300 = pd.read_csv(path_ref_NP300, delim_whitespace=True)\r\n",
        "ref_NP300.columns = COLUMN_NAMES\r\n",
        "\r\n",
        "# Test P300 data\r\n",
        "path_test_P300 = P300_PATH + \"test_P300\"\r\n",
        "test_P300 = pd.read_csv(path_test_P300, delim_whitespace=True)\r\n",
        "test_P300.columns = COLUMN_NAMES\r\n",
        "# Test NP300 data\r\n",
        "path_test_NP300 = P300_PATH + \"test_NP300\"\r\n",
        "test_NP300 = pd.read_csv(path_test_NP300, delim_whitespace=True)\r\n",
        "test_NP300.columns = COLUMN_NAMES\r\n",
        "\r\n",
        "# prediction data\r\n",
        "path_unknown = P300_PATH + \"Inconnus\"\r\n",
        "unknown = pd.read_csv(path_unknown, delim_whitespace=True)\r\n",
        "unknown.columns = COLUMN_NAMES"
      ],
      "execution_count": 14,
      "outputs": []
    },
    {
      "cell_type": "markdown",
      "metadata": {
        "id": "TwJiWOgnlTn8"
      },
      "source": [
        "## Study and analysis of the distributions (probability distributions)"
      ]
    },
    {
      "cell_type": "markdown",
      "metadata": {
        "id": "cjvmwiykkau4"
      },
      "source": [
        "### Examine the shape of the probability laws (dispersion and distribution of points)\r\n"
      ]
    },
    {
      "cell_type": "code",
      "metadata": {
        "id": "lJurVlj9gWGl"
      },
      "source": [
        "n = max(len(ref_P300), len(ref_NP300))\r\n",
        "x_P300 = np.linspace(1, n, len(ref_P300))\r\n",
        "x_NP300 = np.linspace(1, n, len(ref_NP300))"
      ],
      "execution_count": 15,
      "outputs": []
    },
    {
      "cell_type": "code",
      "metadata": {
        "id": "cNiJSh74kJX7",
        "colab": {
          "base_uri": "https://localhost:8080/",
          "height": 265
        },
        "outputId": "a3209bcb-5776-43a9-d310-ff51d3597408"
      },
      "source": [
        "plt.plot(x_P300,ref_P300['X1'],'o')\r\n",
        "plt.plot(x_NP300, ref_NP300['X1'],'*')\r\n",
        "plt.show()"
      ],
      "execution_count": 16,
      "outputs": [
        {
          "output_type": "display_data",
          "data": {
            "image/png": "[encoded data removed]",
            "text/plain": [
              "<Figure size 432x288 with 1 Axes>"
            ]
          },
          "metadata": {
            "tags": [],
            "needs_background": "light"
          }
        }
      ]
    },
    {
      "cell_type": "code",
      "metadata": {
        "id": "C4_oGWTPkLEE",
        "colab": {
          "base_uri": "https://localhost:8080/",
          "height": 265
        },
        "outputId": "12d1cdb5-9f0e-4423-d76f-8a72d74509d3"
      },
      "source": [
        "plt.plot(x_P300,ref_P300['X2'],'o')\r\n",
        "plt.plot(x_NP300, ref_NP300['X2'],'*')\r\n",
        "plt.show()"
      ],
      "execution_count": 17,
      "outputs": [
        {
          "output_type": "display_data",
          "data": {
            "image/png": "[encoded data removed]",
            "text/plain": [
              "<Figure size 432x288 with 1 Axes>"
            ]
          },
          "metadata": {
            "tags": [],
            "needs_background": "light"
          }
        }
      ]
    },
    {
      "cell_type": "code",
      "metadata": {
        "id": "bvVLM4DEkOUE",
        "colab": {
          "base_uri": "https://localhost:8080/",
          "height": 265
        },
        "outputId": "da324b95-105d-4b17-fa13-53dcb08c8c5e"
      },
      "source": [
        "plt.plot(x_P300,ref_P300['X3'],'o')\r\n",
        "plt.plot(x_NP300, ref_NP300['X3'],'*')\r\n",
        "plt.show()"
      ],
      "execution_count": 18,
      "outputs": [
        {
          "output_type": "display_data",
          "data": {
            "image/png": "[encoded data removed]",
            "text/plain": [
              "<Figure size 432x288 with 1 Axes>"
            ]
          },
          "metadata": {
            "tags": [],
            "needs_background": "light"
          }
        }
      ]
    },
    {
      "cell_type": "code",
      "metadata": {
        "id": "5eyTtjtfkSLL",
        "colab": {
          "base_uri": "https://localhost:8080/",
          "height": 265
        },
        "outputId": "3d9298b9-dbf7-427a-efa6-e714ef274022"
      },
      "source": [
        "plt.plot(x_P300,ref_P300['X4'],'o')\r\n",
        "plt.plot(x_NP300, ref_NP300['X4'],'*')\r\n",
        "plt.show()"
      ],
      "execution_count": 19,
      "outputs": [
        {
          "output_type": "display_data",
          "data": {
            "image/png": "[encoded data removed]",
            "text/plain": [
              "<Figure size 432x288 with 1 Axes>"
            ]
          },
          "metadata": {
            "tags": [],
            "needs_background": "light"
          }
        }
      ]
    },
    {
      "cell_type": "markdown",
      "metadata": {
        "id": "MX3-oNZgm6VO"
      },
      "source": [
        "### Examine the eigenvalues of the covariance matrices"
      ]
    },
    {
      "cell_type": "markdown",
      "metadata": {
        "id": "BJ1i__1KElwU"
      },
      "source": [
        "Estimation of the average"
      ]
    },
    {
      "cell_type": "code",
      "metadata": {
        "id": "oxDuWKORElbi",
        "outputId": "ac062d2f-a2d3-4b8f-9251-d979be54e114",
        "colab": {
          "base_uri": "https://localhost:8080/"
        }
      },
      "source": [
        "# Ref P300 avg\r\n",
        "[avg_X1_P300,avg_X2_P300,avg_X3_P300,avg_X4_P300] = ref_P300.mean()\r\n",
        "print(ref_P300.mean())"
      ],
      "execution_count": 23,
      "outputs": [
        {
          "output_type": "stream",
          "text": [
            "X1   -0.064840\n",
            "X2   -0.985659\n",
            "X3   -0.986271\n",
            "X4   -0.588270\n",
            "dtype: float64\n"
          ],
          "name": "stdout"
        }
      ]
    },
    {
      "cell_type": "code",
      "metadata": {
        "id": "MqgUSf_aGacL",
        "outputId": "a00e93ad-2fa4-41b7-f3f7-1ce30f5dfad5",
        "colab": {
          "base_uri": "https://localhost:8080/"
        }
      },
      "source": [
        "# Ref NP300 avg\r\n",
        "[avg_X1_NP300,avg_X2_NP300,avg_X3_NP300,avg_X4_NP300] = ref_NP300.mean()\r\n",
        "print(ref_NP300.mean())"
      ],
      "execution_count": 24,
      "outputs": [
        {
          "output_type": "stream",
          "text": [
            "X1    0.490579\n",
            "X2   -0.965857\n",
            "X3   -0.871183\n",
            "X4   -0.317981\n",
            "dtype: float64\n"
          ],
          "name": "stdout"
        }
      ]
    },
    {
      "cell_type": "markdown",
      "metadata": {
        "id": "2TKtzGEKW2qT"
      },
      "source": [
        "Covariance matrices"
      ]
    },
    {
      "cell_type": "code",
      "metadata": {
        "id": "VchXq_jQWji1",
        "outputId": "9857da5a-fcb2-4ab7-d972-ea9f27c751b4",
        "colab": {
          "base_uri": "https://localhost:8080/",
          "height": 175
        }
      },
      "source": [
        "ref_P300.cov()"
      ],
      "execution_count": 27,
      "outputs": [
        {
          "output_type": "execute_result",
          "data": {
            "text/html": [
              "<div>\n",
              "<style scoped>\n",
              "    .dataframe tbody tr th:only-of-type {\n",
              "        vertical-align: middle;\n",
              "    }\n",
              "\n",
              "    .dataframe tbody tr th {\n",
              "        vertical-align: top;\n",
              "    }\n",
              "\n",
              "    .dataframe thead th {\n",
              "        text-align: right;\n",
              "    }\n",
              "</style>\n",
              "<table border=\"1\" class=\"dataframe\">\n",
              "  <thead>\n",
              "    <tr style=\"text-align: right;\">\n",
              "      <th></th>\n",
              "      <th>X1</th>\n",
              "      <th>X2</th>\n",
              "      <th>X3</th>\n",
              "      <th>X4</th>\n",
              "    </tr>\n",
              "  </thead>\n",
              "  <tbody>\n",
              "    <tr>\n",
              "      <th>X1</th>\n",
              "      <td>0.105842</td>\n",
              "      <td>0.002198</td>\n",
              "      <td>0.009409</td>\n",
              "      <td>0.048398</td>\n",
              "    </tr>\n",
              "    <tr>\n",
              "      <th>X2</th>\n",
              "      <td>0.002198</td>\n",
              "      <td>0.000078</td>\n",
              "      <td>0.000434</td>\n",
              "      <td>0.001065</td>\n",
              "    </tr>\n",
              "    <tr>\n",
              "      <th>X3</th>\n",
              "      <td>0.009409</td>\n",
              "      <td>0.000434</td>\n",
              "      <td>0.002894</td>\n",
              "      <td>0.004806</td>\n",
              "    </tr>\n",
              "    <tr>\n",
              "      <th>X4</th>\n",
              "      <td>0.048398</td>\n",
              "      <td>0.001065</td>\n",
              "      <td>0.004806</td>\n",
              "      <td>0.022255</td>\n",
              "    </tr>\n",
              "  </tbody>\n",
              "</table>\n",
              "</div>"
            ],
            "text/plain": [
              "          X1        X2        X3        X4\n",
              "X1  0.105842  0.002198  0.009409  0.048398\n",
              "X2  0.002198  0.000078  0.000434  0.001065\n",
              "X3  0.009409  0.000434  0.002894  0.004806\n",
              "X4  0.048398  0.001065  0.004806  0.022255"
            ]
          },
          "metadata": {
            "tags": []
          },
          "execution_count": 27
        }
      ]
    },
    {
      "cell_type": "code",
      "metadata": {
        "id": "T4cA8UsPX9e1"
      },
      "source": [
        "# Coding the df.cov() method\r\n",
        "def avg(column):\r\n",
        "  return column.sum()/len(column)\r\n",
        "\r\n",
        "def covariance(column1, column2):\r\n",
        "  if(len(column1) != len(column2)):\r\n",
        "    raise Exception(\"Column1 and Column2 don't have the same len\")\r\n",
        "  else :\r\n",
        "    term1 = column1 - avg(column1)\r\n",
        "    term2 = column2 - avg(column1)\r\n",
        "    mult = term1 * term2.transpose()\r\n",
        "    s = mult.sum()\r\n",
        "    return s / (len(column1)-1)\r\n",
        "\r\n",
        "def covariance_matrice(df):\r\n",
        "  col = df.columns\r\n",
        "  cov_mat = pd.DataFrame(np.zeros([len(df.columns),len(df.columns)]), index=col,columns=col)\r\n",
        "  for i in range(len(df.columns)):\r\n",
        "    for j in range(i,len(col)):\r\n",
        "      c = covariance(df[col[i]],df[col[j]])\r\n",
        "      cov_mat[col[i]][col[j]] = c\r\n",
        "      cov_mat[col[j]][col[i]] = c\r\n",
        "  return cov_mat"
      ],
      "execution_count": 68,
      "outputs": []
    },
    {
      "cell_type": "code",
      "metadata": {
        "id": "-cv-THuaXbDY",
        "outputId": "593c6d5d-c645-4946-f51b-4ce9dc08f264",
        "colab": {
          "base_uri": "https://localhost:8080/",
          "height": 175
        }
      },
      "source": [
        "covariance_matrice(ref_P300)"
      ],
      "execution_count": 69,
      "outputs": [
        {
          "output_type": "execute_result",
          "data": {
            "text/html": [
              "<div>\n",
              "<style scoped>\n",
              "    .dataframe tbody tr th:only-of-type {\n",
              "        vertical-align: middle;\n",
              "    }\n",
              "\n",
              "    .dataframe tbody tr th {\n",
              "        vertical-align: top;\n",
              "    }\n",
              "\n",
              "    .dataframe thead th {\n",
              "        text-align: right;\n",
              "    }\n",
              "</style>\n",
              "<table border=\"1\" class=\"dataframe\">\n",
              "  <thead>\n",
              "    <tr style=\"text-align: right;\">\n",
              "      <th></th>\n",
              "      <th>X1</th>\n",
              "      <th>X2</th>\n",
              "      <th>X3</th>\n",
              "      <th>X4</th>\n",
              "    </tr>\n",
              "  </thead>\n",
              "  <tbody>\n",
              "    <tr>\n",
              "      <th>X1</th>\n",
              "      <td>0.105842</td>\n",
              "      <td>0.002198</td>\n",
              "      <td>0.009409</td>\n",
              "      <td>0.048398</td>\n",
              "    </tr>\n",
              "    <tr>\n",
              "      <th>X2</th>\n",
              "      <td>0.002198</td>\n",
              "      <td>0.000078</td>\n",
              "      <td>0.000434</td>\n",
              "      <td>0.001065</td>\n",
              "    </tr>\n",
              "    <tr>\n",
              "      <th>X3</th>\n",
              "      <td>0.009409</td>\n",
              "      <td>0.000434</td>\n",
              "      <td>0.002894</td>\n",
              "      <td>0.004806</td>\n",
              "    </tr>\n",
              "    <tr>\n",
              "      <th>X4</th>\n",
              "      <td>0.048398</td>\n",
              "      <td>0.001065</td>\n",
              "      <td>0.004806</td>\n",
              "      <td>0.022255</td>\n",
              "    </tr>\n",
              "  </tbody>\n",
              "</table>\n",
              "</div>"
            ],
            "text/plain": [
              "          X1        X2        X3        X4\n",
              "X1  0.105842  0.002198  0.009409  0.048398\n",
              "X2  0.002198  0.000078  0.000434  0.001065\n",
              "X3  0.009409  0.000434  0.002894  0.004806\n",
              "X4  0.048398  0.001065  0.004806  0.022255"
            ]
          },
          "metadata": {
            "tags": []
          },
          "execution_count": 69
        }
      ]
    },
    {
      "cell_type": "markdown",
      "metadata": {
        "id": "atauYCw-m-cS"
      },
      "source": [
        "### Study the relevance of decorrelation of coordinates"
      ]
    },
    {
      "cell_type": "markdown",
      "metadata": {
        "id": "cpCVMs0anFnz"
      },
      "source": [
        "### Study the relevance of a dimension reduction by decorrelation"
      ]
    },
    {
      "cell_type": "markdown",
      "metadata": {
        "id": "ZEcO_C_knYE6"
      },
      "source": [
        "### Examine again the shape of the laws of probability after decorrelation"
      ]
    },
    {
      "cell_type": "markdown",
      "metadata": {
        "id": "NpiKxnetnhCb"
      },
      "source": [
        "### Study the visual form of the boundary equations between P300 and NP300 classes"
      ]
    },
    {
      "cell_type": "markdown",
      "metadata": {
        "id": "yRAkbo8pnxDz"
      },
      "source": [
        "### Deduce the advantages and disadvantages of direct estimation of probability densities by joint probabilities or by independent likelihood estimation for each of the dimensions"
      ]
    },
    {
      "cell_type": "markdown",
      "metadata": {
        "id": "Ftfv7ThDmNCM"
      },
      "source": [
        "## Implementation of three Bayesian classification algorithms"
      ]
    },
    {
      "cell_type": "markdown",
      "metadata": {
        "id": "DzQ77gaBmeri"
      },
      "source": [
        "## Evaluation"
      ]
    },
    {
      "cell_type": "markdown",
      "metadata": {
        "id": "1-X9JMs9miEL"
      },
      "source": [
        "## K-NN & K-means"
      ]
    },
    {
      "cell_type": "markdown",
      "metadata": {
        "id": "tuGRioPQmlaU"
      },
      "source": [
        "## Comparison"
      ]
    },
    {
      "cell_type": "markdown",
      "metadata": {
        "id": "2YPIQAjtmmjr"
      },
      "source": [
        "## Image recognition"
      ]
    }
  ]
}
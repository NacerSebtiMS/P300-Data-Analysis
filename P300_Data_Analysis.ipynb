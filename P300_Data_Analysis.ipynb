{
  "nbformat": 4,
  "nbformat_minor": 0,
  "metadata": {
    "colab": {
      "name": "P300_Data_Analysis.ipynb",
      "provenance": [],
      "toc_visible": true,
      "authorship_tag": "ABX9TyNDgfAmxW0Zyau1i/B0mlhM",
      "include_colab_link": true
    },
    "kernelspec": {
      "name": "python3",
      "display_name": "Python 3"
    }
  },
  "cells": [
    {
      "cell_type": "markdown",
      "metadata": {
        "id": "view-in-github",
        "colab_type": "text"
      },
      "source": [
        "<a href=\"https://colab.research.google.com/github/NacerSebtiMS/P300-Data-Analysis/blob/main/P300_Data_Analysis.ipynb\" target=\"_parent\"><img src=\"https://colab.research.google.com/assets/colab-badge.svg\" alt=\"Open In Colab\"/></a>"
      ]
    },
    {
      "cell_type": "markdown",
      "metadata": {
        "id": "02_9rIPUlBYX"
      },
      "source": [
        "# Data-Analysis\r\n",
        "\r\n",
        "+ The analysis consists in identifying the signals measured the presence of a wave called P300\r\n",
        "+ Studying the automation of this classification and implementing several pattern recognition techniques to evaluate them.\r\n",
        "\r\n",
        "## The dataset\r\n",
        "\r\n",
        "+ The first category includes signals that are pre-labeled as P300 or P300-free, and should be used to design and validate the recognition system.\r\n",
        "+ The second category includes signals for which the category to which they belong is not known a priori (unknown). The recognition system will automatically classify them into the CP300 or CP300-free class.\r\n",
        "\r\n",
        "### Study and analysis of the distributions (probability distributions)\r\n",
        "+ Examine the shape of the probability laws (dispersion and distribution of points);\r\n",
        "+ Examine the eigenvalues of the covariance matrices;\r\n",
        "+ Study the relevance of decorrelation of coordinates;\r\n",
        "+ In order to reduce computations and the duration of treatments, study the relevance of a dimension reduction by decorrelation;\r\n",
        "+ Examine again the shape of the laws of probability after decorrelation.\r\n",
        "+ Study the visual form of the boundary equations between CP300 and Non CP300 classes;\r\n",
        "+ From previous work, deduce the advantages and disadvantages of direct estimation of probability densities by joint probabilities or by independent likelihood estimation for each of the dimensions.\r\n",
        "\r\n",
        "### Implementation of three Bayesian classification algorithms\r\n",
        "\r\n",
        "All three algorithms must take into account the cost associated with poor detection of the P300. The cost of not detecting the presence of a P300 (\"false negative\") is 3, while the cost of not detecting the absence of a P300 (\"false positive\") is 1.\r\n",
        "\r\n",
        "+ Implement a classification algorithm that uses the assumption that the laws are Gaussian;\r\n",
        "+ Implement another algorithm that allows a classification without using the mathematical expression of the boundaries and without assuming the Gaussian character but using the risk as defined by Bayes.\r\n",
        "+ Finally for the third algorithm use the mathematical expression of the boundaries assuming that the probability densities are Gaussian.\r\n",
        "\r\n",
        "#### Evaluation\r\n",
        "\r\n",
        "+ Separate the data into two sets :\r\n",
        "    + learning set;\r\n",
        "    + Testing set.\r\n",
        "+ With these sets, evaluate the average classification rate of the 3 systems, compare the results and comment\r\n",
        "\r\n",
        "### K-NN & K-means\r\n",
        "\r\n",
        "Test now and experiment with non-parametric approaches. Document the classification of the same signals as before using two methods :\r\n",
        "+ Classification by the k-nearest neighbors (k-NN);\r\n",
        "+ Classification according to the k-NN algorithm but first using vector quantization (k-means) in order to reduce the size of the data used for the classification.\r\n",
        "\r\n",
        "Criticize and compare the two methods of using k-NN.\r\n",
        "\r\n",
        "### Comparison\r\n",
        "\r\n",
        "Based on the average misclassification rate of the different techniques you used, comment, document and discuss the results by comparing the techniques.\r\n",
        "\r\n",
        "### Image recognition\r\n",
        "\r\n",
        "Brain response is highly dependent on context and mood. It would therefore be important to match the EEG measurement with images from a camera to determine the person's mood (tense, angry, relaxed, etc.). We choose to classify the environments in which the subject finds himself or herself by assuming that the environment has an impact on mood. Evaluate the possibility of classifying the nature of images into three categories (beach, forest and town/road).\r\n",
        "\r\n",
        "For simplicity, only color information be used. You will design an image recognition system that will allow to classify the nature of images in the 3 categories (beach, forest and city) with only the color information. The system must be able to operate for different codings of the color characteristics of the images.\r\n"
      ]
    },
    {
      "cell_type": "markdown",
      "metadata": {
        "id": "c7SLHDkakwXN"
      },
      "source": [
        "## Loading data and library imports"
      ]
    },
    {
      "cell_type": "markdown",
      "metadata": {
        "id": "QmLw5RjZqcx0"
      },
      "source": [
        "Clonning the repository gives access to the data"
      ]
    },
    {
      "cell_type": "code",
      "metadata": {
        "id": "FxZr8QdTqR7g",
        "colab": {
          "base_uri": "https://localhost:8080/"
        },
        "outputId": "faeeabe1-42b8-465b-f4d0-612373c5a70f"
      },
      "source": [
        "!git clone https://github.com/NacerSebtiMS/P300-Data-Analysis.git"
      ],
      "execution_count": 8,
      "outputs": [
        {
          "output_type": "stream",
          "text": [
            "fatal: destination path 'P300-Data-Analysis' already exists and is not an empty directory.\n"
          ],
          "name": "stdout"
        }
      ]
    },
    {
      "cell_type": "code",
      "metadata": {
        "id": "Po6aOZGiZ20L"
      },
      "source": [
        "import pandas as pd\r\n",
        "import matplotlib.pyplot as plt\r\n",
        "import numpy as np"
      ],
      "execution_count": 9,
      "outputs": []
    },
    {
      "cell_type": "markdown",
      "metadata": {
        "id": "fpqgsrRTqkrF"
      },
      "source": [
        "All datasets are loaded and the columns are labeled with X1, X2, X3 and X4."
      ]
    },
    {
      "cell_type": "code",
      "metadata": {
        "id": "s_w6hknJapnV"
      },
      "source": [
        "P300_PATH = \"/content/P300-Data-Analysis/data/P300/\"\r\n",
        "\r\n",
        "COLUMN_NAMES = ['X1','X2','X3','X4']\r\n",
        "\r\n",
        "# Ref P300 data\r\n",
        "path_ref_P300 = P300_PATH + \"ref_P300\"\r\n",
        "ref_P300 = pd.read_csv(path_ref_P300, delim_whitespace=True)\r\n",
        "ref_P300.columns = COLUMN_NAMES\r\n",
        "# Ref NP300 data\r\n",
        "path_ref_NP300 = P300_PATH + \"ref_NP300\"\r\n",
        "ref_NP300 = pd.read_csv(path_ref_NP300, delim_whitespace=True)\r\n",
        "ref_NP300.columns = COLUMN_NAMES\r\n",
        "\r\n",
        "# Test P300 data\r\n",
        "path_test_P300 = P300_PATH + \"test_P300\"\r\n",
        "test_P300 = pd.read_csv(path_test_P300, delim_whitespace=True)\r\n",
        "test_P300.columns = COLUMN_NAMES\r\n",
        "# Test NP300 data\r\n",
        "path_test_NP300 = P300_PATH + \"test_NP300\"\r\n",
        "test_NP300 = pd.read_csv(path_test_NP300, delim_whitespace=True)\r\n",
        "test_NP300.columns = COLUMN_NAMES\r\n",
        "\r\n",
        "# prediction data\r\n",
        "path_unknown = P300_PATH + \"Inconnus\"\r\n",
        "unknown = pd.read_csv(path_unknown, delim_whitespace=True)\r\n",
        "unknown.columns = COLUMN_NAMES"
      ],
      "execution_count": 10,
      "outputs": []
    },
    {
      "cell_type": "markdown",
      "metadata": {
        "id": "TwJiWOgnlTn8"
      },
      "source": [
        "## Study and analysis of the distributions (probability distributions)"
      ]
    },
    {
      "cell_type": "markdown",
      "metadata": {
        "id": "cjvmwiykkau4"
      },
      "source": [
        "### Examine the shape of the probability laws (dispersion and distribution of points)\r\n"
      ]
    },
    {
      "cell_type": "code",
      "metadata": {
        "id": "lJurVlj9gWGl"
      },
      "source": [
        "n = max(len(ref_P300), len(ref_NP300))\r\n",
        "x_P300 = np.linspace(1, n, len(ref_P300))\r\n",
        "x_NP300 = np.linspace(1, n, len(ref_NP300))"
      ],
      "execution_count": 11,
      "outputs": []
    },
    {
      "cell_type": "code",
      "metadata": {
        "id": "cNiJSh74kJX7",
        "colab": {
          "base_uri": "https://localhost:8080/",
          "height": 265
        },
        "outputId": "2152b3a6-6721-4531-9785-bb775cf8539a"
      },
      "source": [
        "plt.plot(x_P300,ref_P300['X1'],'o')\r\n",
        "plt.plot(x_NP300, ref_NP300['X1'],'*')\r\n",
        "plt.show()"
      ],
      "execution_count": 12,
      "outputs": [
        {
          "output_type": "display_data",
          "data": {
            "image/png": "[encoded data removed]",
            "text/plain": [
              "<Figure size 432x288 with 1 Axes>"
            ]
          },
          "metadata": {
            "tags": [],
            "needs_background": "light"
          }
        }
      ]
    },
    {
      "cell_type": "code",
      "metadata": {
        "id": "C4_oGWTPkLEE",
        "colab": {
          "base_uri": "https://localhost:8080/",
          "height": 265
        },
        "outputId": "e5f26a6b-bec4-448f-ceee-13cd320ecbc5"
      },
      "source": [
        "plt.plot(x_P300,ref_P300['X2'],'o')\r\n",
        "plt.plot(x_NP300, ref_NP300['X2'],'*')\r\n",
        "plt.show()"
      ],
      "execution_count": 13,
      "outputs": [
        {
          "output_type": "display_data",
          "data": {
            "image/png": "[encoded data removed]",
            "text/plain": [
              "<Figure size 432x288 with 1 Axes>"
            ]
          },
          "metadata": {
            "tags": [],
            "needs_background": "light"
          }
        }
      ]
    },
    {
      "cell_type": "code",
      "metadata": {
        "id": "bvVLM4DEkOUE",
        "colab": {
          "base_uri": "https://localhost:8080/",
          "height": 265
        },
        "outputId": "a28d71ab-f849-48c4-d8a5-4a005ddfbb38"
      },
      "source": [
        "plt.plot(x_P300,ref_P300['X3'],'o')\r\n",
        "plt.plot(x_NP300, ref_NP300['X3'],'*')\r\n",
        "plt.show()"
      ],
      "execution_count": 14,
      "outputs": [
        {
          "output_type": "display_data",
          "data": {
            "image/png": "[encoded data removed]",
            "text/plain": [
              "<Figure size 432x288 with 1 Axes>"
            ]
          },
          "metadata": {
            "tags": [],
            "needs_background": "light"
          }
        }
      ]
    },
    {
      "cell_type": "code",
      "metadata": {
        "id": "5eyTtjtfkSLL",
        "colab": {
          "base_uri": "https://localhost:8080/",
          "height": 265
        },
        "outputId": "b2de2e3a-e5ec-4a3c-b06d-66791868ddad"
      },
      "source": [
        "plt.plot(x_P300,ref_P300['X4'],'o')\r\n",
        "plt.plot(x_NP300, ref_NP300['X4'],'*')\r\n",
        "plt.show()"
      ],
      "execution_count": 15,
      "outputs": [
        {
          "output_type": "display_data",
          "data": {
            "image/png": "[encoded data removed]",
            "text/plain": [
              "<Figure size 432x288 with 1 Axes>"
            ]
          },
          "metadata": {
            "tags": [],
            "needs_background": "light"
          }
        }
      ]
    },
    {
      "cell_type": "code",
      "metadata": {
        "id": "5CvpnFS44fl5",
        "colab": {
          "base_uri": "https://localhost:8080/",
          "height": 283
        },
        "outputId": "d01f3743-eafd-4290-ea42-5591530fc7fa"
      },
      "source": [
        "plt.plot(ref_P300['X1'],ref_P300['X2'],'o')\r\n",
        "plt.plot(ref_NP300['X1'],ref_NP300['X2'],'*')"
      ],
      "execution_count": 16,
      "outputs": [
        {
          "output_type": "execute_result",
          "data": {
            "text/plain": [
              "[<matplotlib.lines.Line2D at 0x7f7e5cc0b9b0>]"
            ]
          },
          "metadata": {
            "tags": []
          },
          "execution_count": 16
        },
        {
          "output_type": "display_data",
          "data": {
            "image/png": "[encoded data removed]",
            "text/plain": [
              "<Figure size 432x288 with 1 Axes>"
            ]
          },
          "metadata": {
            "tags": [],
            "needs_background": "light"
          }
        }
      ]
    },
    {
      "cell_type": "code",
      "metadata": {
        "id": "7ZKvpzSV4ssN",
        "colab": {
          "base_uri": "https://localhost:8080/",
          "height": 283
        },
        "outputId": "dc8666b9-0d53-4c5f-87fc-35d52a4bf41d"
      },
      "source": [
        "plt.plot(ref_P300['X1'],ref_P300['X3'],'o')\r\n",
        "plt.plot(ref_NP300['X1'],ref_NP300['X3'],'*')"
      ],
      "execution_count": 17,
      "outputs": [
        {
          "output_type": "execute_result",
          "data": {
            "text/plain": [
              "[<matplotlib.lines.Line2D at 0x7f7e5cb1f2e8>]"
            ]
          },
          "metadata": {
            "tags": []
          },
          "execution_count": 17
        },
        {
          "output_type": "display_data",
          "data": {
            "image/png": "[encoded data removed]",
            "text/plain": [
              "<Figure size 432x288 with 1 Axes>"
            ]
          },
          "metadata": {
            "tags": [],
            "needs_background": "light"
          }
        }
      ]
    },
    {
      "cell_type": "code",
      "metadata": {
        "id": "zTYx51zb4vL9",
        "colab": {
          "base_uri": "https://localhost:8080/",
          "height": 283
        },
        "outputId": "34d765d6-db05-45ff-ec65-58d63e29f55d"
      },
      "source": [
        "plt.plot(ref_P300['X1'],ref_P300['X4'],'o')\r\n",
        "plt.plot(ref_NP300['X1'],ref_NP300['X4'],'*')"
      ],
      "execution_count": 18,
      "outputs": [
        {
          "output_type": "execute_result",
          "data": {
            "text/plain": [
              "[<matplotlib.lines.Line2D at 0x7f7e5cb07518>]"
            ]
          },
          "metadata": {
            "tags": []
          },
          "execution_count": 18
        },
        {
          "output_type": "display_data",
          "data": {
            "image/png": "[encoded data removed]",
            "text/plain": [
              "<Figure size 432x288 with 1 Axes>"
            ]
          },
          "metadata": {
            "tags": [],
            "needs_background": "light"
          }
        }
      ]
    },
    {
      "cell_type": "code",
      "metadata": {
        "id": "HjmZ8FWv4zCt",
        "colab": {
          "base_uri": "https://localhost:8080/",
          "height": 283
        },
        "outputId": "8188f5d8-cb6f-47ae-d6f2-50ea1e26307a"
      },
      "source": [
        "plt.plot(ref_P300['X2'],ref_P300['X3'],'o')\r\n",
        "plt.plot(ref_NP300['X2'],ref_NP300['X3'],'*')"
      ],
      "execution_count": 19,
      "outputs": [
        {
          "output_type": "execute_result",
          "data": {
            "text/plain": [
              "[<matplotlib.lines.Line2D at 0x7f7e5ca70128>]"
            ]
          },
          "metadata": {
            "tags": []
          },
          "execution_count": 19
        },
        {
          "output_type": "display_data",
          "data": {
            "image/png": "[encoded data removed]",
            "text/plain": [
              "<Figure size 432x288 with 1 Axes>"
            ]
          },
          "metadata": {
            "tags": [],
            "needs_background": "light"
          }
        }
      ]
    },
    {
      "cell_type": "code",
      "metadata": {
        "id": "euWpC0EV43Dl",
        "colab": {
          "base_uri": "https://localhost:8080/",
          "height": 283
        },
        "outputId": "eb54fe39-4683-4bdf-d046-0a03019c0962"
      },
      "source": [
        "plt.plot(ref_P300['X2'],ref_P300['X4'],'o')\r\n",
        "plt.plot(ref_NP300['X2'],ref_NP300['X4'],'*')"
      ],
      "execution_count": 20,
      "outputs": [
        {
          "output_type": "execute_result",
          "data": {
            "text/plain": [
              "[<matplotlib.lines.Line2D at 0x7f7e5ca37898>]"
            ]
          },
          "metadata": {
            "tags": []
          },
          "execution_count": 20
        },
        {
          "output_type": "display_data",
          "data": {
            "image/png": "[encoded data removed]",
            "text/plain": [
              "<Figure size 432x288 with 1 Axes>"
            ]
          },
          "metadata": {
            "tags": [],
            "needs_background": "light"
          }
        }
      ]
    },
    {
      "cell_type": "code",
      "metadata": {
        "id": "wpvUh9-O48pK",
        "colab": {
          "base_uri": "https://localhost:8080/",
          "height": 283
        },
        "outputId": "7eaf3862-9b19-4f8c-ecaa-6f341ec4ccf7"
      },
      "source": [
        "plt.plot(ref_P300['X3'],ref_P300['X4'],'o')\r\n",
        "plt.plot(ref_NP300['X3'],ref_NP300['X4'],'*')"
      ],
      "execution_count": 21,
      "outputs": [
        {
          "output_type": "execute_result",
          "data": {
            "text/plain": [
              "[<matplotlib.lines.Line2D at 0x7f7e5ca55f60>]"
            ]
          },
          "metadata": {
            "tags": []
          },
          "execution_count": 21
        },
        {
          "output_type": "display_data",
          "data": {
            "image/png": "[encoded data removed]",
            "text/plain": [
              "<Figure size 432x288 with 1 Axes>"
            ]
          },
          "metadata": {
            "tags": [],
            "needs_background": "light"
          }
        }
      ]
    },
    {
      "cell_type": "markdown",
      "metadata": {
        "id": "MX3-oNZgm6VO"
      },
      "source": [
        "### Examine the eigenvalues of the covariance matrices"
      ]
    },
    {
      "cell_type": "markdown",
      "metadata": {
        "id": "BJ1i__1KElwU"
      },
      "source": [
        "Estimation of the average"
      ]
    },
    {
      "cell_type": "code",
      "metadata": {
        "id": "oxDuWKORElbi",
        "colab": {
          "base_uri": "https://localhost:8080/"
        },
        "outputId": "26c13360-9b74-4de9-e19f-f7bec8338db5"
      },
      "source": [
        "# Ref P300 avg\r\n",
        "[avg_X1_P300,avg_X2_P300,avg_X3_P300,avg_X4_P300] = ref_P300.mean()\r\n",
        "print(ref_P300.mean())"
      ],
      "execution_count": 22,
      "outputs": [
        {
          "output_type": "stream",
          "text": [
            "X1   -0.064840\n",
            "X2   -0.985659\n",
            "X3   -0.986271\n",
            "X4   -0.588270\n",
            "dtype: float64\n"
          ],
          "name": "stdout"
        }
      ]
    },
    {
      "cell_type": "code",
      "metadata": {
        "id": "MqgUSf_aGacL",
        "colab": {
          "base_uri": "https://localhost:8080/"
        },
        "outputId": "3a5ce06e-72b1-4722-9a5a-951f9802dd6e"
      },
      "source": [
        "# Ref NP300 avg\r\n",
        "[avg_X1_NP300,avg_X2_NP300,avg_X3_NP300,avg_X4_NP300] = ref_NP300.mean()\r\n",
        "print(ref_NP300.mean())"
      ],
      "execution_count": 23,
      "outputs": [
        {
          "output_type": "stream",
          "text": [
            "X1    0.490579\n",
            "X2   -0.965857\n",
            "X3   -0.871183\n",
            "X4   -0.317981\n",
            "dtype: float64\n"
          ],
          "name": "stdout"
        }
      ]
    },
    {
      "cell_type": "markdown",
      "metadata": {
        "id": "2TKtzGEKW2qT"
      },
      "source": [
        "Covariance matrices"
      ]
    },
    {
      "cell_type": "code",
      "metadata": {
        "id": "T4cA8UsPX9e1"
      },
      "source": [
        "# Coding the df.cov() method\r\n",
        "def avg(column):\r\n",
        "  return column.sum()/len(column)\r\n",
        "\r\n",
        "def covariance(column1, column2):\r\n",
        "  if(len(column1) != len(column2)):\r\n",
        "    raise Exception(\"Column1 and Column2 don't have the same len\")\r\n",
        "  else :\r\n",
        "    term1 = column1 - avg(column1)\r\n",
        "    term2 = column2 - avg(column1)\r\n",
        "    mult = term1 * term2.transpose()\r\n",
        "    s = mult.sum()\r\n",
        "    return s / (len(column1)-1)\r\n",
        "\r\n",
        "def covariance_matrice(df):\r\n",
        "  col = df.columns\r\n",
        "  cov_mat = pd.DataFrame(np.zeros([len(df.columns),len(df.columns)]), index=col,columns=col)\r\n",
        "  for i in range(len(df.columns)):\r\n",
        "    for j in range(i,len(col)):\r\n",
        "      c = covariance(df[col[i]],df[col[j]])\r\n",
        "      cov_mat[col[i]][col[j]] = c\r\n",
        "      cov_mat[col[j]][col[i]] = c\r\n",
        "  return cov_mat"
      ],
      "execution_count": 24,
      "outputs": []
    },
    {
      "cell_type": "code",
      "metadata": {
        "id": "-cv-THuaXbDY"
      },
      "source": [
        "cov_ref_P300 = covariance_matrice(ref_P300)\r\n",
        "cov_ref_NP300 = covariance_matrice(ref_NP300)"
      ],
      "execution_count": 25,
      "outputs": []
    },
    {
      "cell_type": "code",
      "metadata": {
        "id": "9sN1JhdpgAxm",
        "colab": {
          "base_uri": "https://localhost:8080/",
          "height": 175
        },
        "outputId": "8f50f31e-80e7-4609-9882-5b0701031a2a"
      },
      "source": [
        "cov_ref_P300"
      ],
      "execution_count": 26,
      "outputs": [
        {
          "output_type": "execute_result",
          "data": {
            "text/html": [
              "<div>\n",
              "<style scoped>\n",
              "    .dataframe tbody tr th:only-of-type {\n",
              "        vertical-align: middle;\n",
              "    }\n",
              "\n",
              "    .dataframe tbody tr th {\n",
              "        vertical-align: top;\n",
              "    }\n",
              "\n",
              "    .dataframe thead th {\n",
              "        text-align: right;\n",
              "    }\n",
              "</style>\n",
              "<table border=\"1\" class=\"dataframe\">\n",
              "  <thead>\n",
              "    <tr style=\"text-align: right;\">\n",
              "      <th></th>\n",
              "      <th>X1</th>\n",
              "      <th>X2</th>\n",
              "      <th>X3</th>\n",
              "      <th>X4</th>\n",
              "    </tr>\n",
              "  </thead>\n",
              "  <tbody>\n",
              "    <tr>\n",
              "      <th>X1</th>\n",
              "      <td>0.105842</td>\n",
              "      <td>0.002198</td>\n",
              "      <td>0.009409</td>\n",
              "      <td>0.048398</td>\n",
              "    </tr>\n",
              "    <tr>\n",
              "      <th>X2</th>\n",
              "      <td>0.002198</td>\n",
              "      <td>0.000078</td>\n",
              "      <td>0.000434</td>\n",
              "      <td>0.001065</td>\n",
              "    </tr>\n",
              "    <tr>\n",
              "      <th>X3</th>\n",
              "      <td>0.009409</td>\n",
              "      <td>0.000434</td>\n",
              "      <td>0.002894</td>\n",
              "      <td>0.004806</td>\n",
              "    </tr>\n",
              "    <tr>\n",
              "      <th>X4</th>\n",
              "      <td>0.048398</td>\n",
              "      <td>0.001065</td>\n",
              "      <td>0.004806</td>\n",
              "      <td>0.022255</td>\n",
              "    </tr>\n",
              "  </tbody>\n",
              "</table>\n",
              "</div>"
            ],
            "text/plain": [
              "          X1        X2        X3        X4\n",
              "X1  0.105842  0.002198  0.009409  0.048398\n",
              "X2  0.002198  0.000078  0.000434  0.001065\n",
              "X3  0.009409  0.000434  0.002894  0.004806\n",
              "X4  0.048398  0.001065  0.004806  0.022255"
            ]
          },
          "metadata": {
            "tags": []
          },
          "execution_count": 26
        }
      ]
    },
    {
      "cell_type": "code",
      "metadata": {
        "id": "loeO_eLwgEIB",
        "colab": {
          "base_uri": "https://localhost:8080/",
          "height": 175
        },
        "outputId": "8c12629b-0b79-4427-bbd2-f5d73e651cbd"
      },
      "source": [
        "cov_ref_NP300"
      ],
      "execution_count": 27,
      "outputs": [
        {
          "output_type": "execute_result",
          "data": {
            "text/html": [
              "<div>\n",
              "<style scoped>\n",
              "    .dataframe tbody tr th:only-of-type {\n",
              "        vertical-align: middle;\n",
              "    }\n",
              "\n",
              "    .dataframe tbody tr th {\n",
              "        vertical-align: top;\n",
              "    }\n",
              "\n",
              "    .dataframe thead th {\n",
              "        text-align: right;\n",
              "    }\n",
              "</style>\n",
              "<table border=\"1\" class=\"dataframe\">\n",
              "  <thead>\n",
              "    <tr style=\"text-align: right;\">\n",
              "      <th></th>\n",
              "      <th>X1</th>\n",
              "      <th>X2</th>\n",
              "      <th>X3</th>\n",
              "      <th>X4</th>\n",
              "    </tr>\n",
              "  </thead>\n",
              "  <tbody>\n",
              "    <tr>\n",
              "      <th>X1</th>\n",
              "      <td>0.148139</td>\n",
              "      <td>0.007844</td>\n",
              "      <td>0.049520</td>\n",
              "      <td>0.076835</td>\n",
              "    </tr>\n",
              "    <tr>\n",
              "      <th>X2</th>\n",
              "      <td>0.007844</td>\n",
              "      <td>0.001417</td>\n",
              "      <td>0.004790</td>\n",
              "      <td>0.004874</td>\n",
              "    </tr>\n",
              "    <tr>\n",
              "      <th>X3</th>\n",
              "      <td>0.049520</td>\n",
              "      <td>0.004790</td>\n",
              "      <td>0.039518</td>\n",
              "      <td>0.031121</td>\n",
              "    </tr>\n",
              "    <tr>\n",
              "      <th>X4</th>\n",
              "      <td>0.076835</td>\n",
              "      <td>0.004874</td>\n",
              "      <td>0.031121</td>\n",
              "      <td>0.041246</td>\n",
              "    </tr>\n",
              "  </tbody>\n",
              "</table>\n",
              "</div>"
            ],
            "text/plain": [
              "          X1        X2        X3        X4\n",
              "X1  0.148139  0.007844  0.049520  0.076835\n",
              "X2  0.007844  0.001417  0.004790  0.004874\n",
              "X3  0.049520  0.004790  0.039518  0.031121\n",
              "X4  0.076835  0.004874  0.031121  0.041246"
            ]
          },
          "metadata": {
            "tags": []
          },
          "execution_count": 27
        }
      ]
    },
    {
      "cell_type": "code",
      "metadata": {
        "id": "1MPVPPYmsOpp",
        "colab": {
          "base_uri": "https://localhost:8080/"
        },
        "outputId": "876c4cb3-15e6-4ff3-baaa-5cd5176a4593"
      },
      "source": [
        "eigvals_ref_P300, eigvect_ref_P300 = np.linalg.eig(cov_ref_P300)\r\n",
        "print(eigvals_ref_P300)"
      ],
      "execution_count": 28,
      "outputs": [
        {
          "output_type": "stream",
          "text": [
            "[1.28926303e-01 2.13784493e-03 8.24314117e-18 4.81563881e-06]\n"
          ],
          "name": "stdout"
        }
      ]
    },
    {
      "cell_type": "code",
      "metadata": {
        "id": "EnMGuvFDtObT",
        "colab": {
          "base_uri": "https://localhost:8080/"
        },
        "outputId": "e6f4deb0-ddcb-4355-edb2-afdc1fdc8596"
      },
      "source": [
        "eigvals_ref_NP300, eigvect_ref_NP300 = np.linalg.eig(cov_ref_NP300)\r\n",
        "print(eigvals_ref_NP300)"
      ],
      "execution_count": 29,
      "outputs": [
        {
          "output_type": "stream",
          "text": [
            "[2.08933838e-01 2.05253469e-02 1.11599043e-17 8.60777219e-04]\n"
          ],
          "name": "stdout"
        }
      ]
    },
    {
      "cell_type": "markdown",
      "metadata": {
        "id": "atauYCw-m-cS"
      },
      "source": [
        "### Study the relevance of decorrelation of coordinates"
      ]
    },
    {
      "cell_type": "markdown",
      "metadata": {
        "id": "cpCVMs0anFnz"
      },
      "source": [
        "### Study the relevance of a dimension reduction by decorrelation"
      ]
    },
    {
      "cell_type": "markdown",
      "metadata": {
        "id": "ZEcO_C_knYE6"
      },
      "source": [
        "### Examine again the shape of the laws of probability after decorrelation"
      ]
    },
    {
      "cell_type": "markdown",
      "metadata": {
        "id": "NpiKxnetnhCb"
      },
      "source": [
        "### Study the visual form of the boundary equations between P300 and NP300 classes"
      ]
    },
    {
      "cell_type": "markdown",
      "metadata": {
        "id": "yRAkbo8pnxDz"
      },
      "source": [
        "### Deduce the advantages and disadvantages of direct estimation of probability densities by joint probabilities or by independent likelihood estimation for each of the dimensions"
      ]
    },
    {
      "cell_type": "markdown",
      "metadata": {
        "id": "Ftfv7ThDmNCM"
      },
      "source": [
        "## Implementation of three Bayesian classification algorithms"
      ]
    },
    {
      "cell_type": "markdown",
      "metadata": {
        "id": "ljHJNTGIlFcv"
      },
      "source": [
        "### Classification algorithm that uses the assumption that the laws are Gaussian"
      ]
    },
    {
      "cell_type": "markdown",
      "metadata": {
        "id": "IzQ-WRe_lXsh"
      },
      "source": [
        "### Bayes risk classification algorithm"
      ]
    },
    {
      "cell_type": "markdown",
      "metadata": {
        "id": "_5LgLBwslkgj"
      },
      "source": [
        "### Mathematical expression of the boundaries assuming that the probability densities are Gaussian"
      ]
    },
    {
      "cell_type": "markdown",
      "metadata": {
        "id": "DzQ77gaBmeri"
      },
      "source": [
        "### Evaluation"
      ]
    },
    {
      "cell_type": "markdown",
      "metadata": {
        "id": "2W_pw2Bultcp"
      },
      "source": [
        "#### Separate data"
      ]
    },
    {
      "cell_type": "markdown",
      "metadata": {
        "id": "vOFQpb8ml2oF"
      },
      "source": [
        "#### Rvaluation of the average classification rate of the 3 systems, compare the results and comment"
      ]
    },
    {
      "cell_type": "markdown",
      "metadata": {
        "id": "1-X9JMs9miEL"
      },
      "source": [
        "## K-NN & K-means"
      ]
    },
    {
      "cell_type": "markdown",
      "metadata": {
        "id": "uPZnuZwQtC-l"
      },
      "source": [
        "Defining a distance"
      ]
    },
    {
      "cell_type": "code",
      "metadata": {
        "id": "74wNgDl0qJIO"
      },
      "source": [
        "def euclidean_distance(p1,p2):\r\n",
        "  try:\r\n",
        "    s = 0\r\n",
        "    for i in range(len(p1)):\r\n",
        "      s += abs(p1[i]-p2[i])\r\n",
        "    return s\r\n",
        "  except:\r\n",
        "    return abs(p1-p2)\r\n",
        "\r\n",
        "dist = lambda p1, p2 : euclidean_distance(p1,p2)"
      ],
      "execution_count": 30,
      "outputs": []
    },
    {
      "cell_type": "code",
      "metadata": {
        "id": "TQVHEObaQ4t_"
      },
      "source": [
        "def replace_min(t,L):\r\n",
        "  for i in range(len(L)):\r\n",
        "    if L[i][0]>t[0] or L[i][0] == -1:\r\n",
        "      L[i] = t\r\n",
        "      return L\r\n",
        "  return L\r\n",
        "\r\n",
        "def count(L,e):\r\n",
        "  s = 0\r\n",
        "  for t in L :\r\n",
        "    if t[1] == e:\r\n",
        "      s+=1\r\n",
        "  return s\r\n",
        "\r\n",
        "def build_list(row,cols):\r\n",
        "  L = []\r\n",
        "  for col in cols:\r\n",
        "    L += [row[col]]\r\n",
        "  return L\r\n",
        "\r\n",
        "def k_nn(k,x_train,y_train,x_pred,dst):\r\n",
        "  y_col = y_train.columns[0]\r\n",
        "  classes = y_train[y_col].unique()\r\n",
        "  cols = x_train.columns\r\n",
        "  y_pred = pd.DataFrame(np.empty(len(x_pred), dtype=object),columns=y_train.columns)\r\n",
        "  i = 0\r\n",
        "  for pred_index, pred_row in x_pred.iterrows():\r\n",
        "    min = [(-1,0)]*k\r\n",
        "    for train_index,train_row in x_train.iterrows():\r\n",
        "      #d = dst( [ train_row['X1'],train_row['X2'],train_row['X3'],train_row['X4'] ], [ pred_row['X1'],pred_row['X2'],pred_row['X3'],pred_row['X4'] ] )\r\n",
        "      d = dst( build_list(pred_row,cols), build_list(train_row,cols) )\r\n",
        "      min = replace_min( (d,y_train[y_col][train_index]), min)\r\n",
        "    max = 0\r\n",
        "    for c in classes:\r\n",
        "      if count(min,c) > max:\r\n",
        "        y_pred[y_col][i] = c\r\n",
        "    i+=1\r\n",
        "  return y_pred"
      ],
      "execution_count": 123,
      "outputs": []
    },
    {
      "cell_type": "code",
      "metadata": {
        "id": "qA6UbVPBRiiA"
      },
      "source": [
        "x_train_knn_P300 = ref_P300\r\n",
        "y_train_knn_P300 = pd.DataFrame(np.empty(len(x_train_knn_P300)),columns=[\"class\"])\r\n",
        "y_train_knn_P300['class'] = 'P300'\r\n",
        "\r\n",
        "x_train_knn_NP300 = ref_NP300\r\n",
        "y_train_knn_NP300 = pd.DataFrame(np.empty(len(x_train_knn_NP300)),columns=[\"class\"], index=pd.RangeIndex(len(y_train_knn_P300),len(y_train_knn_P300)+len(x_train_knn_NP300),1))\r\n",
        "y_train_knn_NP300['class'] = 'NP300'\r\n",
        "\r\n",
        "x_train = pd.concat([x_train_knn_P300,x_train_knn_NP300])\r\n",
        "y_train = pd.concat([y_train_knn_P300,y_train_knn_NP300])\r\n",
        "\r\n",
        "x_pred_knn = pd.concat([test_P300,test_NP300], keys=['P300','NP300'])"
      ],
      "execution_count": 124,
      "outputs": []
    },
    {
      "cell_type": "code",
      "metadata": {
        "id": "F28CNlVGVS4b",
        "colab": {
          "base_uri": "https://localhost:8080/"
        },
        "outputId": "2b318e86-2ea0-4c27-da99-21c6376398e7"
      },
      "source": [
        "def check_knn(x_pred,y_pred):\r\n",
        "  i=0\r\n",
        "  s=0\r\n",
        "  for c,index in x_pred.index:\r\n",
        "    if y_pred['class'][i] == c:\r\n",
        "      s+=1\r\n",
        "    i+=1\r\n",
        "  return s\r\n",
        "\r\n",
        "print('k\\t acc')\r\n",
        "for k in range(1,4,2):\r\n",
        "  y_pred_knn = k_nn(k,x_train,y_train,x_pred_knn,dist)\r\n",
        "  print(k,'\\t',check_knn(x_pred_knn,y_pred_knn) / len(x_pred_knn) * 100,'%')"
      ],
      "execution_count": 125,
      "outputs": [
        {
          "output_type": "stream",
          "text": [
            "k\t acc\n",
            "1 \t 58.620689655172406 %\n",
            "3 \t 51.724137931034484 %\n"
          ],
          "name": "stdout"
        }
      ]
    },
    {
      "cell_type": "markdown",
      "metadata": {
        "id": "KjXUZAeYmLfM"
      },
      "source": [
        "#### Classification by the k-nearest neighbors (k-NN)"
      ]
    },
    {
      "cell_type": "markdown",
      "metadata": {
        "id": "hZpnYNlgmVvM"
      },
      "source": [
        "#### Classification according to the k-NN algorithm but first using vector quantization (k-means) in order to reduce the size of the data used for the classification"
      ]
    },
    {
      "cell_type": "markdown",
      "metadata": {
        "id": "HNbmkNu3mbv5"
      },
      "source": [
        "#### Comparaison between k-NN and k-NN using k-means"
      ]
    },
    {
      "cell_type": "markdown",
      "metadata": {
        "id": "tuGRioPQmlaU"
      },
      "source": [
        "## Comparison"
      ]
    },
    {
      "cell_type": "markdown",
      "metadata": {
        "id": "2YPIQAjtmmjr"
      },
      "source": [
        "## Image recognition"
      ]
    }
  ]
}
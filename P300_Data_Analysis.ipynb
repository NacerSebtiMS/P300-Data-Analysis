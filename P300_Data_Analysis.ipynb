{
  "nbformat": 4,
  "nbformat_minor": 0,
  "metadata": {
    "colab": {
      "name": "P300_Data_Analysis.ipynb",
      "provenance": [],
      "authorship_tag": "ABX9TyNhqq/lkOqj9bRT15tUdzzM",
      "include_colab_link": true
    },
    "kernelspec": {
      "name": "python3",
      "display_name": "Python 3"
    }
  },
  "cells": [
    {
      "cell_type": "markdown",
      "metadata": {
        "id": "view-in-github",
        "colab_type": "text"
      },
      "source": [
        "<a href=\"https://colab.research.google.com/github/NacerSebtiMS/P300-Data-Analysis/blob/main/P300_Data_Analysis.ipynb\" target=\"_parent\"><img src=\"https://colab.research.google.com/assets/colab-badge.svg\" alt=\"Open In Colab\"/></a>"
      ]
    },
    {
      "cell_type": "code",
      "metadata": {
        "id": "Po6aOZGiZ20L"
      },
      "source": [
        "import pandas as pd"
      ],
      "execution_count": 22,
      "outputs": []
    },
    {
      "cell_type": "code",
      "metadata": {
        "id": "s_w6hknJapnV"
      },
      "source": [
        "P300_PATH = \"/content/P300-Data-Analysis/data/P300/\"\r\n",
        "\r\n",
        "path_ref_P300 = P300_PATH + \"ref_P300\"\r\n",
        "path_ref_NP300 = P300_PATH + \"ref_NP300\"\r\n",
        "\r\n",
        "path_test_P300 = P300_PATH + \"test_P300\"\r\n",
        "path_test_NP300 = P300_PATH + \"test_NP300\"\r\n",
        "\r\n",
        "path_unknown = P300_PATH + \"Inconnus\"\r\n",
        "\r\n",
        "\r\n",
        "ref_P300 = pd.read_csv(path_ref_P300, delim_whitespace=True)\r\n",
        "ref_NP300 = pd.read_csv(path_ref_NP300, delim_whitespace=True)\r\n",
        "\r\n",
        "test_P300 = pd.read_csv(path_test_P300, delim_whitespace=True)\r\n",
        "test_NP300 = pd.read_csv(path_test_NP300, delim_whitespace=True)\r\n",
        "\r\n",
        "unknown = pd.read_csv(path_unknown, delim_whitespace=True)"
      ],
      "execution_count": 23,
      "outputs": []
    }
  ]
}
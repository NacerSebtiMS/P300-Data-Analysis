{
  "nbformat": 4,
  "nbformat_minor": 0,
  "metadata": {
    "colab": {
      "name": "P300_Data_Analysis.ipynb",
      "provenance": [],
      "authorship_tag": "ABX9TyOBuXRO230G3oSmdsb4YQIb",
      "include_colab_link": true
    },
    "kernelspec": {
      "name": "python3",
      "display_name": "Python 3"
    }
  },
  "cells": [
    {
      "cell_type": "markdown",
      "metadata": {
        "id": "view-in-github",
        "colab_type": "text"
      },
      "source": [
        "<a href=\"https://colab.research.google.com/github/NacerSebtiMS/P300-Data-Analysis/blob/main/P300_Data_Analysis.ipynb\" target=\"_parent\"><img src=\"https://colab.research.google.com/assets/colab-badge.svg\" alt=\"Open In Colab\"/></a>"
      ]
    },
    {
      "cell_type": "markdown",
      "metadata": {
        "id": "02_9rIPUlBYX"
      },
      "source": [
        "# Data-Analysis\r\n",
        "\r\n",
        "+ The analysis consists in identifying the signals measured the presence of a wave called P300\r\n",
        "+ Studying the automation of this classification and implementing several pattern recognition techniques to evaluate them.\r\n",
        "\r\n",
        "## The dataset\r\n",
        "\r\n",
        "+ The first category includes signals that are pre-labeled as P300 or P300-free, and should be used to design and validate the recognition system.\r\n",
        "+ The second category includes signals for which the category to which they belong is not known a priori (unknown). The recognition system will automatically classify them into the CP300 or CP300-free class.\r\n",
        "\r\n",
        "### Study and analysis of the distributions (probability distributions)\r\n",
        "+ Examine the shape of the probability laws (dispersion and distribution of points);\r\n",
        "+ Examine the eigenvalues of the covariance matrices;\r\n",
        "+ Study the relevance of decorrelation of coordinates;\r\n",
        "+ In order to reduce computations and the duration of treatments, study the relevance of a dimension reduction by decorrelation;\r\n",
        "+ Examine again the shape of the laws of probability after decorrelation.\r\n",
        "+ Study the visual form of the boundary equations between CP300 and Non CP300 classes;\r\n",
        "+ From previous work, deduce the advantages and disadvantages of direct estimation of probability densities by joint probabilities or by independent likelihood estimation for each of the dimensions.\r\n",
        "\r\n",
        "### Implementation of three Bayesian classification algorithms\r\n",
        "\r\n",
        "All three algorithms must take into account the cost associated with poor detection of the P300. The cost of not detecting the presence of a P300 (\"false negative\") is 3, while the cost of not detecting the absence of a P300 (\"false positive\") is 1.\r\n",
        "\r\n",
        "+ Implement a classification algorithm that uses the assumption that the laws are Gaussian;\r\n",
        "+ Implement another algorithm that allows a classification without using the mathematical expression of the boundaries and without assuming the Gaussian character but using the risk as defined by Bayes.\r\n",
        "+ Finally for the third algorithm use the mathematical expression of the boundaries assuming that the probability densities are Gaussian.\r\n",
        "\r\n",
        "### Evaluation\r\n",
        "\r\n",
        "+ Separate the data into two sets :\r\n",
        "    + learning set;\r\n",
        "    + Testing set.\r\n",
        "+ With these sets, evaluate the average classification rate of the 3 systems, compare the results and comment\r\n",
        "\r\n",
        "### K-NN & K-means\r\n",
        "\r\n",
        "Test now and experiment with non-parametric approaches. Document the classification of the same signals as before using two methods :\r\n",
        "+ Classification by the k-nearest neighbors (k-NN);\r\n",
        "+ Classification according to the k-NN algorithm but first using vector quantization (k-means) in order to reduce the size of the data used for the classification.\r\n",
        "\r\n",
        "Criticize and compare the two methods of using k-NN.\r\n",
        "\r\n",
        "### Comparison\r\n",
        "\r\n",
        "Based on the average misclassification rate of the different techniques you used, comment, document and discuss the results by comparing the techniques.\r\n",
        "\r\n",
        "### Image recognition\r\n",
        "\r\n",
        "Brain response is highly dependent on context and mood. It would therefore be important to match the EEG measurement with images from a camera to determine the person's mood (tense, angry, relaxed, etc.). We choose to classify the environments in which the subject finds himself or herself by assuming that the environment has an impact on mood. Evaluate the possibility of classifying the nature of images into three categories (beach, forest and town/road).\r\n",
        "\r\n",
        "For simplicity, only color information be used. You will design an image recognition system that will allow to classify the nature of images in the 3 categories (beach, forest and city) with only the color information. The system must be able to operate for different codings of the color characteristics of the images.\r\n"
      ]
    },
    {
      "cell_type": "markdown",
      "metadata": {
        "id": "c7SLHDkakwXN"
      },
      "source": [
        "## Loading data and library imports"
      ]
    },
    {
      "cell_type": "code",
      "metadata": {
        "id": "Po6aOZGiZ20L"
      },
      "source": [
        "import pandas as pd\r\n",
        "import matplotlib.pyplot as plt\r\n",
        "import numpy as np"
      ],
      "execution_count": null,
      "outputs": []
    },
    {
      "cell_type": "code",
      "metadata": {
        "id": "s_w6hknJapnV"
      },
      "source": [
        "P300_PATH = \"/content/P300-Data-Analysis/data/P300/\"\r\n",
        "\r\n",
        "# Ref P300 data\r\n",
        "path_ref_P300 = P300_PATH + \"ref_P300\"\r\n",
        "ref_P300 = pd.read_csv(path_ref_P300, delim_whitespace=True)\r\n",
        "ref_P300.columns = ['a','b','c','d']\r\n",
        "# Ref NP300 data\r\n",
        "path_ref_NP300 = P300_PATH + \"ref_NP300\"\r\n",
        "ref_NP300 = pd.read_csv(path_ref_NP300, delim_whitespace=True)\r\n",
        "ref_NP300.columns = ['a','b','c','d']\r\n",
        "\r\n",
        "# Test P300 data\r\n",
        "path_test_P300 = P300_PATH + \"test_P300\"\r\n",
        "test_P300 = pd.read_csv(path_test_P300, delim_whitespace=True)\r\n",
        "test_P300.columns = ['a','b','c','d']\r\n",
        "# Test NP300 data\r\n",
        "path_test_NP300 = P300_PATH + \"test_NP300\"\r\n",
        "test_NP300 = pd.read_csv(path_test_NP300, delim_whitespace=True)\r\n",
        "test_NP300.columns = ['a','b','c','d']\r\n",
        "\r\n",
        "# prediction data\r\n",
        "path_unknown = P300_PATH + \"Inconnus\"\r\n",
        "unknown = pd.read_csv(path_unknown, delim_whitespace=True)\r\n",
        "unknown.columns = ['a','b','c','d']"
      ],
      "execution_count": null,
      "outputs": []
    },
    {
      "cell_type": "markdown",
      "metadata": {
        "id": "TwJiWOgnlTn8"
      },
      "source": [
        "## Study and analysis of the distributions (probability distributions)"
      ]
    },
    {
      "cell_type": "markdown",
      "metadata": {
        "id": "cjvmwiykkau4"
      },
      "source": [
        "### Examine the shape of the probability laws (dispersion and distribution of points)\r\n"
      ]
    },
    {
      "cell_type": "code",
      "metadata": {
        "id": "lJurVlj9gWGl"
      },
      "source": [
        "x_P300 = np.linspace(1, len(ref_P300), len(ref_P300))\r\n",
        "x_NP300 = np.linspace(1, len(ref_NP300), len(ref_NP300))"
      ],
      "execution_count": null,
      "outputs": []
    },
    {
      "cell_type": "code",
      "metadata": {
        "id": "cNiJSh74kJX7"
      },
      "source": [
        "plt.plot(x1,ref_P300['a'],'o')\r\n",
        "plt.plot(x2, ref_NP300['a'],'*')"
      ],
      "execution_count": null,
      "outputs": []
    },
    {
      "cell_type": "code",
      "metadata": {
        "id": "C4_oGWTPkLEE"
      },
      "source": [
        "plt.plot(x1,ref_P300['b'],'o')\r\n",
        "plt.plot(x2, ref_NP300['b'],'*')"
      ],
      "execution_count": null,
      "outputs": []
    },
    {
      "cell_type": "code",
      "metadata": {
        "id": "bvVLM4DEkOUE"
      },
      "source": [
        "plt.plot(x1,ref_P300['c'],'o')\r\n",
        "plt.plot(x2, ref_NP300['c'],'*')"
      ],
      "execution_count": null,
      "outputs": []
    },
    {
      "cell_type": "code",
      "metadata": {
        "id": "5eyTtjtfkSLL"
      },
      "source": [
        "plt.plot(x1,ref_P300['d'],'o')\r\n",
        "plt.plot(x2, ref_NP300['d'],'*')"
      ],
      "execution_count": null,
      "outputs": []
    },
    {
      "cell_type": "markdown",
      "metadata": {
        "id": "MX3-oNZgm6VO"
      },
      "source": [
        "### Examine the eigenvalues of the covariance matrices"
      ]
    },
    {
      "cell_type": "markdown",
      "metadata": {
        "id": "atauYCw-m-cS"
      },
      "source": [
        "### Study the relevance of decorrelation of coordinates"
      ]
    },
    {
      "cell_type": "markdown",
      "metadata": {
        "id": "cpCVMs0anFnz"
      },
      "source": [
        "### Study the relevance of a dimension reduction by decorrelation"
      ]
    },
    {
      "cell_type": "markdown",
      "metadata": {
        "id": "ZEcO_C_knYE6"
      },
      "source": [
        "### Examine again the shape of the laws of probability after decorrelation"
      ]
    },
    {
      "cell_type": "markdown",
      "metadata": {
        "id": "NpiKxnetnhCb"
      },
      "source": [
        "### Study the visual form of the boundary equations between P300 and NP300 classes"
      ]
    },
    {
      "cell_type": "markdown",
      "metadata": {
        "id": "yRAkbo8pnxDz"
      },
      "source": [
        "### Deduce the advantages and disadvantages of direct estimation of probability densities by joint probabilities or by independent likelihood estimation for each of the dimensions"
      ]
    },
    {
      "cell_type": "markdown",
      "metadata": {
        "id": "Ftfv7ThDmNCM"
      },
      "source": [
        "## Implementation of three Bayesian classification algorithms"
      ]
    },
    {
      "cell_type": "markdown",
      "metadata": {
        "id": "DzQ77gaBmeri"
      },
      "source": [
        "## Evaluation"
      ]
    },
    {
      "cell_type": "markdown",
      "metadata": {
        "id": "1-X9JMs9miEL"
      },
      "source": [
        "## K-NN & K-means"
      ]
    },
    {
      "cell_type": "markdown",
      "metadata": {
        "id": "tuGRioPQmlaU"
      },
      "source": [
        "## Comparison"
      ]
    },
    {
      "cell_type": "markdown",
      "metadata": {
        "id": "2YPIQAjtmmjr"
      },
      "source": [
        "## Image recognition"
      ]
    }
  ]
}